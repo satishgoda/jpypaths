{
 "cells": [
  {
   "cell_type": "markdown",
   "metadata": {},
   "source": [
    "* https://github.com/satishgoda/jpypaths"
   ]
  },
  {
   "cell_type": "code",
   "execution_count": 1,
   "metadata": {
    "collapsed": true
   },
   "outputs": [],
   "source": [
    "\"\"\"Simple commmandline utility that prints all Jupyter paths\"\"\"\n",
    "\n",
    "from jupyter_core import paths\n",
    "\n",
    "def printVars(names):\n",
    "    \"\"\"Pretty print path vars by name\n",
    "    \n",
    "    Parameters\n",
    "    ----------\n",
    "    names list(str) - variable names\"\"\"\n",
    "    \n",
    "    # Calculate the left column size\n",
    "    leftCol = max([len(name) for name in names]) + 1\n",
    "    space = ' ' * leftCol\n",
    "    \n",
    "    # Print each var\n",
    "    for name in names:\n",
    "        \n",
    "        # If the var is actually a method, invoke it.\n",
    "        values = getattr(paths, name)\n",
    "        if callable(values):\n",
    "            values = values()\n",
    "        \n",
    "        # If this is a list, print the var name only on the first row.\n",
    "        if isinstance(values, list):\n",
    "            values = [str(value) for value in values]\n",
    "            print(name + (' ' * (leftCol - len(name))) + values[0])\n",
    "            \n",
    "            # Followed by left column padding and the rest of the list\n",
    "            if len(values) > 1:\n",
    "                for value in values[1:]:\n",
    "                    print(space + value)\n",
    "        \n",
    "        # If it's not a list, print the var name and var value.\n",
    "        else:\n",
    "            print(name + (' ' * (leftCol - len(name))) + str(values))"
   ]
  },
  {
   "cell_type": "code",
   "execution_count": 2,
   "metadata": {
    "collapsed": false
   },
   "outputs": [
    {
     "name": "stdout",
     "output_type": "stream",
     "text": [
      "Paths\n",
      "-----\n",
      "jupyter_config_dir  /home/sgoda/.jupyter\n",
      "jupyter_config_path /home/sgoda/.jupyter\n",
      "                    /usr/tmp/python3/etc/jupyter\n",
      "                    /usr/local/etc/jupyter\n",
      "                    /etc/jupyter\n",
      "jupyter_data_dir    /home/sgoda/.local/share/jupyter\n",
      "jupyter_path        /home/sgoda/.local/share/jupyter\n",
      "                    /usr/tmp/python3/share/jupyter\n",
      "                    /usr/local/share/jupyter\n",
      "                    /usr/share/jupyter\n",
      "jupyter_runtime_dir /home/sgoda/.local/share/jupyter/runtime\n"
     ]
    }
   ],
   "source": [
    "# Print the most important variables first\n",
    "print('Paths\\n-----')\n",
    "printVars([\n",
    "    'jupyter_config_dir',\n",
    "    'jupyter_config_path',\n",
    "    'jupyter_data_dir',\n",
    "    'jupyter_path',\n",
    "    'jupyter_runtime_dir'\n",
    "])"
   ]
  },
  {
   "cell_type": "code",
   "execution_count": 3,
   "metadata": {
    "collapsed": false
   },
   "outputs": [
    {
     "name": "stdout",
     "output_type": "stream",
     "text": [
      "\n",
      "\n",
      "Internals\n",
      "---------\n",
      "ENV_CONFIG_PATH     /usr/tmp/python3/etc/jupyter\n",
      "ENV_JUPYTER_PATH    /usr/tmp/python3/share/jupyter\n",
      "SYSTEM_CONFIG_PATH  /usr/local/etc/jupyter\n",
      "                    /etc/jupyter\n",
      "SYSTEM_JUPYTER_PATH /usr/local/share/jupyter\n",
      "                    /usr/share/jupyter\n"
     ]
    }
   ],
   "source": [
    "# Print the variables used to calculate other variables second.\n",
    "print('\\n\\nInternals\\n---------')\n",
    "printVars([\n",
    "    'ENV_CONFIG_PATH',\n",
    "    'ENV_JUPYTER_PATH',\n",
    "    'SYSTEM_CONFIG_PATH',\n",
    "    'SYSTEM_JUPYTER_PATH'\n",
    "])"
   ]
  },
  {
   "cell_type": "code",
   "execution_count": null,
   "metadata": {
    "collapsed": true
   },
   "outputs": [],
   "source": []
  }
 ],
 "metadata": {
  "kernelspec": {
   "display_name": "Python 3",
   "language": "python",
   "name": "python3"
  },
  "language_info": {
   "codemirror_mode": {
    "name": "ipython",
    "version": 3
   },
   "file_extension": ".py",
   "mimetype": "text/x-python",
   "name": "python",
   "nbconvert_exporter": "python",
   "pygments_lexer": "ipython3",
   "version": "3.4.6"
  }
 },
 "nbformat": 4,
 "nbformat_minor": 2
}
